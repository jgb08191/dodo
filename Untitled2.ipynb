{
  "nbformat": 4,
  "nbformat_minor": 0,
  "metadata": {
    "colab": {
      "provenance": [],
      "toc_visible": true,
      "authorship_tag": "ABX9TyNvdL+ERytYXH4N53JBuK08",
      "include_colab_link": true
    },
    "kernelspec": {
      "name": "python3",
      "display_name": "Python 3"
    },
    "language_info": {
      "name": "python"
    }
  },
  "cells": [
    {
      "cell_type": "markdown",
      "metadata": {
        "id": "view-in-github",
        "colab_type": "text"
      },
      "source": [
        "<a href=\"https://colab.research.google.com/github/jgb08191/dodo/blob/master/Untitled2.ipynb\" target=\"_parent\"><img src=\"https://colab.research.google.com/assets/colab-badge.svg\" alt=\"Open In Colab\"/></a>"
      ]
    },
    {
      "cell_type": "code",
      "execution_count": null,
      "metadata": {
        "colab": {
          "base_uri": "https://localhost:8080/"
        },
        "id": "SoVK8WQ0UIfR",
        "outputId": "89857ee3-3765-46c7-e1d7-b1be67de766e"
      },
      "outputs": [
        {
          "output_type": "stream",
          "name": "stdout",
          "text": [
            "Writing mypandas.py\n"
          ]
        }
      ],
      "source": [
        "%%writefile mypandas.py\n",
        "def plus(a,b):\n",
        "    return a + b\n",
        "\n",
        "  print(plus(5,6))"
      ]
    },
    {
      "cell_type": "code",
      "source": [
        "%%writefile setuptools\n",
        "import setuptools\n",
        "setuptools.setup(\n",
        "  name = 'mypandas',\n",
        "  packages = ['mypandas'],\n",
        "  classifers = [\n",
        "    \"Programming Language :: python :: 3\",\n",
        "  ]\n",
        "  )\n",
        "\n"
      ],
      "metadata": {
        "colab": {
          "base_uri": "https://localhost:8080/"
        },
        "id": "dSq2wwVSWHOe",
        "outputId": "67524a25-ba49-43d7-9715-8c981fda1d49"
      },
      "execution_count": 14,
      "outputs": [
        {
          "output_type": "stream",
          "name": "stdout",
          "text": [
            "Writing setuptools\n"
          ]
        }
      ]
    },
    {
      "cell_type": "code",
      "source": [
        "!pip install wheel\n"
      ],
      "metadata": {
        "colab": {
          "base_uri": "https://localhost:8080/"
        },
        "id": "3rK8q3JvYnKQ",
        "outputId": "4404b49a-8cf7-4f12-86b2-ff895da6086b"
      },
      "execution_count": 11,
      "outputs": [
        {
          "output_type": "stream",
          "name": "stdout",
          "text": [
            "Requirement already satisfied: wheel in /usr/local/lib/python3.10/dist-packages (0.43.0)\n"
          ]
        }
      ]
    },
    {
      "cell_type": "code",
      "source": [
        "!pip install twine"
      ],
      "metadata": {
        "colab": {
          "base_uri": "https://localhost:8080/"
        },
        "id": "g4kMs0o6dX-2",
        "outputId": "d183ff7e-55d2-45bc-f504-98a0158071ca"
      },
      "execution_count": 12,
      "outputs": [
        {
          "output_type": "stream",
          "name": "stdout",
          "text": [
            "Requirement already satisfied: twine in /usr/local/lib/python3.10/dist-packages (5.0.0)\n",
            "Requirement already satisfied: pkginfo>=1.8.1 in /usr/local/lib/python3.10/dist-packages (from twine) (1.10.0)\n",
            "Requirement already satisfied: readme-renderer>=35.0 in /usr/local/lib/python3.10/dist-packages (from twine) (43.0)\n",
            "Requirement already satisfied: requests>=2.20 in /usr/local/lib/python3.10/dist-packages (from twine) (2.31.0)\n",
            "Requirement already satisfied: requests-toolbelt!=0.9.0,>=0.8.0 in /usr/local/lib/python3.10/dist-packages (from twine) (1.0.0)\n",
            "Requirement already satisfied: urllib3>=1.26.0 in /usr/local/lib/python3.10/dist-packages (from twine) (2.0.7)\n",
            "Requirement already satisfied: importlib-metadata>=3.6 in /usr/local/lib/python3.10/dist-packages (from twine) (7.1.0)\n",
            "Requirement already satisfied: keyring>=15.1 in /usr/lib/python3/dist-packages (from twine) (23.5.0)\n",
            "Requirement already satisfied: rfc3986>=1.4.0 in /usr/local/lib/python3.10/dist-packages (from twine) (2.0.0)\n",
            "Requirement already satisfied: rich>=12.0.0 in /usr/local/lib/python3.10/dist-packages (from twine) (13.7.1)\n",
            "Requirement already satisfied: zipp>=0.5 in /usr/local/lib/python3.10/dist-packages (from importlib-metadata>=3.6->twine) (3.18.1)\n",
            "Requirement already satisfied: nh3>=0.2.14 in /usr/local/lib/python3.10/dist-packages (from readme-renderer>=35.0->twine) (0.2.17)\n",
            "Requirement already satisfied: docutils>=0.13.1 in /usr/local/lib/python3.10/dist-packages (from readme-renderer>=35.0->twine) (0.18.1)\n",
            "Requirement already satisfied: Pygments>=2.5.1 in /usr/local/lib/python3.10/dist-packages (from readme-renderer>=35.0->twine) (2.16.1)\n",
            "Requirement already satisfied: charset-normalizer<4,>=2 in /usr/local/lib/python3.10/dist-packages (from requests>=2.20->twine) (3.3.2)\n",
            "Requirement already satisfied: idna<4,>=2.5 in /usr/local/lib/python3.10/dist-packages (from requests>=2.20->twine) (3.6)\n",
            "Requirement already satisfied: certifi>=2017.4.17 in /usr/local/lib/python3.10/dist-packages (from requests>=2.20->twine) (2024.2.2)\n",
            "Requirement already satisfied: markdown-it-py>=2.2.0 in /usr/local/lib/python3.10/dist-packages (from rich>=12.0.0->twine) (3.0.0)\n",
            "Requirement already satisfied: mdurl~=0.1 in /usr/local/lib/python3.10/dist-packages (from markdown-it-py>=2.2.0->rich>=12.0.0->twine) (0.1.2)\n"
          ]
        }
      ]
    },
    {
      "cell_type": "code",
      "source": [
        "!python setup.py bdist_wheel"
      ],
      "metadata": {
        "id": "WCooadr3Y2Qf",
        "colab": {
          "base_uri": "https://localhost:8080/"
        },
        "outputId": "e3e29d57-7bd8-429d-9f5d-19250d5a9ea0"
      },
      "execution_count": 15,
      "outputs": [
        {
          "output_type": "stream",
          "name": "stdout",
          "text": [
            "running bdist_wheel\n",
            "running build\n",
            "running build_py\n",
            "running egg_info\n",
            "creating mycalc0001.egg-info\n",
            "writing mycalc0001.egg-info/PKG-INFO\n",
            "writing dependency_links to mycalc0001.egg-info/dependency_links.txt\n",
            "writing requirements to mycalc0001.egg-info/requires.txt\n",
            "writing top-level names to mycalc0001.egg-info/top_level.txt\n",
            "writing manifest file 'mycalc0001.egg-info/SOURCES.txt'\n",
            "reading manifest file 'mycalc0001.egg-info/SOURCES.txt'\n",
            "adding license file 'LICENSE'\n",
            "writing manifest file 'mycalc0001.egg-info/SOURCES.txt'\n",
            "/usr/local/lib/python3.10/dist-packages/setuptools/_distutils/cmd.py:66: SetuptoolsDeprecationWarning: setup.py install is deprecated.\n",
            "!!\n",
            "\n",
            "        ********************************************************************************\n",
            "        Please avoid running ``setup.py`` directly.\n",
            "        Instead, use pypa/build, pypa/installer, pypa/build or\n",
            "        other standards-based tools.\n",
            "\n",
            "        See https://blog.ganssle.io/articles/2021/10/setup-py-deprecated.html for details.\n",
            "        ********************************************************************************\n",
            "\n",
            "!!\n",
            "  self.initialize_options()\n",
            "installing to build/bdist.linux-x86_64/wheel\n",
            "running install\n",
            "running install_lib\n",
            "warning: install_lib: 'build/lib' does not exist -- no Python modules to install\n",
            "\n",
            "running install_egg_info\n",
            "Copying mycalc0001.egg-info to build/bdist.linux-x86_64/wheel/mycalc0001-0.0.1-py3.10.egg-info\n",
            "running install_scripts\n",
            "creating build/bdist.linux-x86_64/wheel/mycalc0001-0.0.1.dist-info/WHEEL\n",
            "creating 'dist/mycalc0001-0.0.1-py3-none-any.whl' and adding 'build/bdist.linux-x86_64/wheel' to it\n",
            "adding 'mycalc0001-0.0.1.dist-info/LICENSE'\n",
            "adding 'mycalc0001-0.0.1.dist-info/METADATA'\n",
            "adding 'mycalc0001-0.0.1.dist-info/WHEEL'\n",
            "adding 'mycalc0001-0.0.1.dist-info/top_level.txt'\n",
            "adding 'mycalc0001-0.0.1.dist-info/RECORD'\n",
            "removing build/bdist.linux-x86_64/wheel\n"
          ]
        }
      ]
    },
    {
      "cell_type": "code",
      "source": [
        "!twine upload -u dodo1218 -p tkfkd12130?  /content/dist/mycalc0001-0.0.1-py3-none-any.whl"
      ],
      "metadata": {
        "colab": {
          "base_uri": "https://localhost:8080/"
        },
        "id": "ZLwMerw5cqde",
        "outputId": "d0b507aa-f1c7-4c41-f73d-85524d4c4f2f"
      },
      "execution_count": 16,
      "outputs": [
        {
          "output_type": "stream",
          "name": "stdout",
          "text": [
            "Uploading distributions to https://upload.pypi.org/legacy/\n",
            "Uploading mycalc0001-0.0.1-py3-none-any.whl\n",
            "\u001b[2K\u001b[35m100%\u001b[0m \u001b[90m━━━━━━━━━━━━━━━━━━━━━━━━━━━━━━━━━━━━━━━━\u001b[0m \u001b[32m5.1/5.1 kB\u001b[0m • \u001b[33m00:00\u001b[0m • \u001b[31m?\u001b[0m\n",
            "\u001b[?25h\u001b[33mWARNING \u001b[0m Error during upload. Retry with the --verbose option for more details.                     \n",
            "\u001b[31mERROR   \u001b[0m HTTPError: 403 Forbidden from https://upload.pypi.org/legacy/                              \n",
            "         Invalid or non-existent authentication information. See https://pypi.org/help/#invalid-auth\n",
            "         for more information.                                                                      \n"
          ]
        }
      ]
    },
    {
      "cell_type": "code",
      "source": [
        "%%writefile setup.py"
      ],
      "metadata": {
        "colab": {
          "base_uri": "https://localhost:8080/"
        },
        "id": "OBmCcDmnbSTf",
        "outputId": "e7f6fbbe-0a3b-4b8a-c8e1-8b3a97fcd94e"
      },
      "execution_count": null,
      "outputs": [
        {
          "output_type": "stream",
          "name": "stdout",
          "text": [
            "Overwriting setup.py\n"
          ]
        }
      ]
    }
  ]
}